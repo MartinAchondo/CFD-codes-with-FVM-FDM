{
 "cells": [
  {
   "cell_type": "code",
   "execution_count": 1,
   "metadata": {
    "collapsed": false
   },
   "outputs": [],
   "source": [
    "import numpy\n",
    "from matplotlib import pyplot\n",
    "%matplotlib inline\n",
    "\n",
    "class cell():\n",
    "\n",
    "    def __init__(self):\n",
    "        self.ctr    = numpy.zeros(2)\n",
    "        self.vSW = numpy.zeros(2)\n",
    "        self.vSE = numpy.zeros(2)\n",
    "        self.vNE = numpy.zeros(2)\n",
    "        self.vNW = numpy.zeros(2)\n",
    "        self.nN  = numpy.zeros(2)\n",
    "        self.nS  = numpy.zeros(2)\n",
    "        self.nE  = numpy.zeros(2)\n",
    "        self.nW  = numpy.zeros(2)\n",
    "        self.area = []\n",
    "\n",
    "        self.T  = []\n",
    "        self.Tn = []\n",
    "\n",
    "def generate_mesh(nx, ny, Lx, Ly, theta, wedge):\n",
    "\n",
    "    x = numpy.linspace(0, Lx, nx+1) # +1 porque nx es numero de celdas,\n",
    "    X = numpy.zeros((ny+1,nx+1))    # no vertices\n",
    "    Y = numpy.zeros((ny+1,nx+1))\n",
    "    dy = Ly/ny\n",
    "    dx = Lx/nx\n",
    "\n",
    "    for j in range(ny+1):\n",
    "\n",
    "        X[j,:] = x\n",
    "        i_before = numpy.where(x<=wedge)[0]\n",
    "        Y[j,i_before] = dy*j\n",
    "\n",
    "        theta_j = theta*(Ly-j*dy)/Ly\n",
    "        i_after = numpy.where(x>wedge)[0]\n",
    "        Y[j,i_after] = dy*j + (dx*i_after-wedge)*numpy.tan(theta_j)\n",
    "\n",
    "    volumes = numpy.empty((ny,nx),dtype=object)\n",
    "    vol_test = numpy.zeros((ny,nx,2))\n",
    "    for j in range(ny):\n",
    "        for i in range(nx):\n",
    "            cell_aux = cell()\n",
    "            cell_aux.vSW[:] = numpy.array([X[j,i]    ,Y[j,i]    ])\n",
    "            cell_aux.vSE[:] = numpy.array([X[j,i+1]  ,Y[j,i+1]  ])\n",
    "            cell_aux.vNE[:] = numpy.array([X[j+1,i+1],Y[j+1,i+1]])\n",
    "            cell_aux.vNW[:] = numpy.array([X[j+1,i]  ,Y[j+1,i]  ])\n",
    "\n",
    "            cell_aux.ctr = (cell_aux.vSW + cell_aux.vSE   \\\n",
    "                          + cell_aux.vNE + cell_aux.vNW)/4\n",
    "\n",
    "            cell_aux.area = compute_area(cell_aux.vSW,\\\n",
    "                                         cell_aux.vSE,\\\n",
    "                                         cell_aux.vNE,\\\n",
    "                                         cell_aux.vNW)\n",
    "\n",
    "            lS = numpy.linalg.norm(cell_aux.vSE-cell_aux.vSW)\n",
    "            cell_aux.nS  = numpy.array([cell_aux.vSE[1]-cell_aux.vSW[1], \\\n",
    "                                      -(cell_aux.vSE[0]-cell_aux.vSW[0])])/lS\n",
    "            \n",
    "            lE = numpy.linalg.norm(cell_aux.vSE-cell_aux.vNE)\n",
    "            cell_aux.nE  = numpy.array([cell_aux.vNE[1]-cell_aux.vSE[1], \\\n",
    "                                      -(cell_aux.vNE[0]-cell_aux.vSE[0])])/lE\n",
    "\n",
    "            lN = numpy.linalg.norm(cell_aux.vNW-cell_aux.vNE)\n",
    "            cell_aux.nN  = numpy.array([cell_aux.vNW[1]-cell_aux.vNE[1], \\\n",
    "                                      -(cell_aux.vNW[0]-cell_aux.vNE[0])])/lN\n",
    "\n",
    "            lW = numpy.linalg.norm(cell_aux.vNW-cell_aux.vSW)\n",
    "            cell_aux.nW  = numpy.array([cell_aux.vSW[1]-cell_aux.vNW[1], \\\n",
    "                                      -(cell_aux.vSW[0]-cell_aux.vNW[0])])/lW\n",
    "\n",
    "            volumes[j,i] = cell_aux\n",
    "\n",
    "    return volumes\n",
    "\n",
    "def compute_area(A, B, C, D):\n",
    "\n",
    "    p = A - C\n",
    "    q = D - B\n",
    "\n",
    "    pq = numpy.cross(p,q)\n",
    "    normpq = numpy.linalg.norm(pq)\n",
    "\n",
    "    area = 0.5*normpq\n",
    "\n",
    "    return area\n",
    "\n",
    "def initial_conditions(volumes, T):\n",
    "\n",
    "    ny, nx = numpy.shape(volumes)\n",
    "\n",
    "    for j in range(ny):\n",
    "        for i in range(nx):\n",
    "            volumes[j,i].T  = T\n",
    "            volumes[j,i].Tn = T\n",
    "\n",
    "alpha = 0.1\n",
    "T0 = 20.\n",
    "\n",
    "Lx = 1.5\n",
    "Ly = 1.\n",
    "wedge = 0.5\n",
    "theta = 15*numpy.pi/180.\n",
    "nx = 30\n",
    "ny = 20\n",
    "\n",
    "mesh = generate_mesh(nx, ny, Lx, Ly, theta, wedge)\n",
    "\n",
    "initial_conditions(mesh, T0)"
   ]
  },
  {
   "cell_type": "markdown",
   "metadata": {},
   "source": [
    "Así se ven el centro de los nodos"
   ]
  },
  {
   "cell_type": "code",
   "execution_count": 2,
   "metadata": {
    "collapsed": false
   },
   "outputs": [
    {
     "data": {
      "text/plain": [
       "<matplotlib.collections.PathCollection at 0x2182bb1eac0>"
      ]
     },
     "execution_count": 2,
     "metadata": {},
     "output_type": "execute_result"
    },
    {
     "data": {
      "image/png": "[encoded data removed]",
      "text/plain": [
       "<Figure size 640x480 with 1 Axes>"
      ]
     },
     "metadata": {},
     "output_type": "display_data"
    }
   ],
   "source": [
    "center = numpy.zeros((ny,nx,2))\n",
    "T = numpy.zeros((ny,nx))\n",
    "for j in range(ny):\n",
    "    for i in range(nx):\n",
    "        center[j,i,:] = mesh[j,i].ctr\n",
    "\n",
    "pyplot.scatter(center[:,:,0],center[:,:,1])"
   ]
  },
  {
   "cell_type": "code",
   "execution_count": null,
   "metadata": {},
   "outputs": [],
   "source": []
  }
 ],
 "metadata": {
  "kernelspec": {
   "display_name": "Python 3",
   "language": "python",
   "name": "python3"
  },
  "language_info": {
   "codemirror_mode": {
    "name": "ipython",
    "version": 3
   },
   "file_extension": ".py",
   "mimetype": "text/x-python",
   "name": "python",
   "nbconvert_exporter": "python",
   "pygments_lexer": "ipython3",
   "version": "3.8.0"
  }
 },
 "nbformat": 4,
 "nbformat_minor": 0
}
